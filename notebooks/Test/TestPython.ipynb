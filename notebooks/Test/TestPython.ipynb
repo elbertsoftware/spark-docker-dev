{
 "cells": [
  {
   "cell_type": "code",
   "execution_count": 1,
   "metadata": {},
   "outputs": [
    {
     "name": "stdout",
     "output_type": "stream",
     "text": [
      "\n",
      "INSTALLED VERSIONS\n",
      "------------------\n",
      "commit: None\n",
      "python: 3.7.3.final.0\n",
      "python-bits: 64\n",
      "OS: Linux\n",
      "OS-release: 5.0.0-16-generic\n",
      "machine: x86_64\n",
      "processor: x86_64\n",
      "byteorder: little\n",
      "LC_ALL: en_US.UTF-8\n",
      "LANG: en_US.UTF-8\n",
      "LOCALE: en_US.UTF-8\n",
      "\n",
      "pandas: 0.24.2\n",
      "pytest: None\n",
      "pip: 19.1\n",
      "setuptools: 41.0.1\n",
      "Cython: 0.29.7\n",
      "numpy: 1.15.4\n",
      "scipy: 1.2.1\n",
      "pyarrow: 0.13.0\n",
      "xarray: None\n",
      "IPython: 7.5.0\n",
      "sphinx: None\n",
      "patsy: 0.5.1\n",
      "dateutil: 2.8.0\n",
      "pytz: 2019.1\n",
      "blosc: None\n",
      "bottleneck: None\n",
      "tables: None\n",
      "numexpr: 2.6.9\n",
      "feather: None\n",
      "matplotlib: 3.0.3\n",
      "openpyxl: None\n",
      "xlrd: 1.2.0\n",
      "xlwt: None\n",
      "xlsxwriter: None\n",
      "lxml.etree: None\n",
      "bs4: 4.7.1\n",
      "html5lib: None\n",
      "sqlalchemy: 1.3.3\n",
      "pymysql: None\n",
      "psycopg2: None\n",
      "jinja2: 2.10.1\n",
      "s3fs: None\n",
      "fastparquet: None\n",
      "pandas_gbq: None\n",
      "pandas_datareader: None\n",
      "gcsfs: None\n"
     ]
    }
   ],
   "source": [
    "import pandas as pd\n",
    "\n",
    "pd.show_versions()"
   ]
  }
 ],
 "metadata": {
  "kernelspec": {
   "display_name": "Python 3",
   "language": "python",
   "name": "python3"
  },
  "language_info": {
   "codemirror_mode": {
    "name": "ipython",
    "version": 3
   },
   "file_extension": ".py",
   "mimetype": "text/x-python",
   "name": "python",
   "nbconvert_exporter": "python",
   "pygments_lexer": "ipython3",
   "version": "3.7.3"
  }
 },
 "nbformat": 4,
 "nbformat_minor": 2
}
