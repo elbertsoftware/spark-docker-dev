{
 "cells": [
  {
   "cell_type": "code",
   "execution_count": 1,
   "metadata": {},
   "outputs": [
    {
     "name": "stdout",
     "output_type": "stream",
     "text": [
      "               _                           \n",
      "platform       x86_64-conda_cos6-linux-gnu \n",
      "arch           x86_64                      \n",
      "os             linux-gnu                   \n",
      "system         x86_64, linux-gnu           \n",
      "status                                     \n",
      "major          3                           \n",
      "minor          5.1                         \n",
      "year           2018                        \n",
      "month          07                          \n",
      "day            02                          \n",
      "svn rev        74947                       \n",
      "language       R                           \n",
      "version.string R version 3.5.1 (2018-07-02)\n",
      "nickname       Feather Spray               \n"
     ]
    }
   ],
   "source": [
    "print(version)"
   ]
  }
 ],
 "metadata": {
  "kernelspec": {
   "display_name": "R",
   "language": "R",
   "name": "ir"
  },
  "language_info": {
   "codemirror_mode": "r",
   "file_extension": ".r",
   "mimetype": "text/x-r-source",
   "name": "R",
   "pygments_lexer": "r",
   "version": "3.5.1"
  }
 },
 "nbformat": 4,
 "nbformat_minor": 2
}
